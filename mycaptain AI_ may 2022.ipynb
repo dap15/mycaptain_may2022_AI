{
 "cells": [
  {
   "cell_type": "code",
   "execution_count": 6,
   "id": "3d521128",
   "metadata": {},
   "outputs": [
    {
     "name": "stdout",
     "output_type": "stream",
     "text": [
      "89\n"
     ]
    }
   ],
   "source": [
    "#fibonacci code for nth numbers\n",
    "#taking 1st and 2nd numbers as a and b\n",
    "\n",
    "def fibonacci(n):\n",
    "    a=0\n",
    "    b=1\n",
    "    \n",
    "    #now cheching whether n is less than 0 or not\n",
    "    if n<=0:\n",
    "       print(\"FIbonnacci cant be printed.\")\n",
    "    \n",
    "    elif n==0:\n",
    "\n",
    "        return a\n",
    "    #check whether n==b\n",
    "    elif n==1:\n",
    "        return b\n",
    "    \n",
    "    else:\n",
    "        for i in range(1,n):\n",
    "         c = a+b\n",
    "         a = b\n",
    "         b = c\n",
    "        return b\n",
    "    \n",
    "\n",
    "#print the code\n",
    "print(fibonacci(11))\n",
    "        \n",
    "    "
   ]
  },
  {
   "cell_type": "code",
   "execution_count": 9,
   "id": "6c602dc3",
   "metadata": {},
   "outputs": [
    {
     "name": "stdout",
     "output_type": "stream",
     "text": [
      "Input the number of characters in the string:8\n",
      "The fibonacci sequence of the numbers is:\n",
      "0\n",
      "1\n",
      "1\n",
      "2\n",
      "3\n",
      "5\n",
      "8\n",
      "13\n"
     ]
    }
   ],
   "source": [
    "#TO make a fibonnacci series:\n",
    "\n",
    "terms= int(input(\"Input the number of characters in the string:\"))\n",
    "\n",
    "#first 2 nos\n",
    "n1=0\n",
    "n2=1\n",
    "count=0\n",
    "\n",
    "#now checking whether the number is valid or not\n",
    "if terms<=0:\n",
    "    print(\"Enter a vlid no which is an positive integer\")\n",
    "    \n",
    "elif terms==1:\n",
    "    print(\"The stirng is upto to \"+n1 + \"numbers\")\n",
    "\n",
    "# Then we will generate Fibonacci sequence of number  \n",
    "else:  \n",
    "    print (\"The fibonacci sequence of the numbers is:\")  \n",
    "    while count < terms:  \n",
    "        print(n1)  \n",
    "        nth = n1 + n2  \n",
    "       # At last, we will update values  \n",
    "        n1 = n2  \n",
    "        n2 = nth  \n",
    "        count += 1  \n"
   ]
  }
 ],
 "metadata": {
  "kernelspec": {
   "display_name": "Python 3 (ipykernel)",
   "language": "python",
   "name": "python3"
  },
  "language_info": {
   "codemirror_mode": {
    "name": "ipython",
    "version": 3
   },
   "file_extension": ".py",
   "mimetype": "text/x-python",
   "name": "python",
   "nbconvert_exporter": "python",
   "pygments_lexer": "ipython3",
   "version": "3.9.7"
  },
  "widgets": {
   "application/vnd.jupyter.widget-state+json": {
    "state": {},
    "version_major": 2,
    "version_minor": 0
   }
  }
 },
 "nbformat": 4,
 "nbformat_minor": 5
}
