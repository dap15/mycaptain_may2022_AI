{
 "cells": [
  {
   "cell_type": "raw",
   "id": "b0dd208d",
   "metadata": {},
   "source": [
    " Task 4 - Now that we have learnt the basics of Python programming language, let's get our hands dirty and create a new python program. Write a Python Program to Illustrate Different Set Operations.\n",
    "Here we have to define two set variables and we have to perform different set operations: union, intersection, difference and symmetric difference.\n",
    "\n",
    "Your Output should look something like this\n",
    "\n",
    "Union of E and N is {0, 1, 2, 3, 4, 5, 6, 8} Intersection of E and N is {2, 4} Difference of E and N is {8, 0, 6} Symmetric difference of E and N is {0, 1, 3, 5, 6, 8}\n"
   ]
  },
  {
   "cell_type": "code",
   "execution_count": null,
   "id": "47e30fce",
   "metadata": {},
   "outputs": [],
   "source": [
    "# Program to perform different set operations like in mathematics\n",
    "\n",
    "# define three sets\n",
    "E = {0, 2, 4, 6, 8};\n",
    "N = {1, 2, 3, 4, 5};\n",
    "\n",
    "# set union\n",
    "print(\"Union of E and N is\",E | N)\n",
    "\n",
    "# set intersection\n",
    "print(\"Intersection of E and N is\",E & N)\n",
    "\n",
    "# set difference\n",
    "print(\"Difference of E and N is\",E - N)\n",
    "\n",
    "# set symmetric difference\n",
    "print(\"Symmetric difference of E and N is\",E ^ N)"
   ]
  }
 ],
 "metadata": {
  "kernelspec": {
   "display_name": "Python 3 (ipykernel)",
   "language": "python",
   "name": "python3"
  },
  "language_info": {
   "codemirror_mode": {
    "name": "ipython",
    "version": 3
   },
   "file_extension": ".py",
   "mimetype": "text/x-python",
   "name": "python",
   "nbconvert_exporter": "python",
   "pygments_lexer": "ipython3",
   "version": "3.9.7"
  }
 },
 "nbformat": 4,
 "nbformat_minor": 5
}
